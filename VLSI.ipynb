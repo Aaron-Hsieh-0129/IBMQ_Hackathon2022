{
 "cells": [
  {
   "cell_type": "code",
   "execution_count": 1,
   "id": "23197c6d-717b-4dfe-80d6-79feea7a3d30",
   "metadata": {},
   "outputs": [
    {
     "name": "stderr",
     "output_type": "stream",
     "text": [
      "<frozen importlib._bootstrap>:219: RuntimeWarning: scipy._lib.messagestream.MessageStream size changed, may indicate binary incompatibility. Expected 56 from C header, got 64 from PyObject\n"
     ]
    }
   ],
   "source": [
    "import numpy as np\n",
    "import matplotlib.pyplot as plt\n",
    "\n",
    "# Importing standard Qiskit libraries\n",
    "from qiskit import QuantumCircuit, transpile, Aer, IBMQ\n",
    "from qiskit.tools.jupyter import *\n",
    "from qiskit.visualization import *\n",
    "# from ibm_quantum_widgetsets import *\n",
    "from qiskit.providers.aer import QasmSimulator\n",
    "from qiskit.algorithms.optimizers import *\n",
    "\n",
    "from qiskit.utils import algorithm_globals\n",
    "from qiskit.circuit.library import TwoLocal\n",
    "from qiskit_optimization.algorithms import MinimumEigenOptimizer\n",
    "from qiskit.algorithms import VQE, QAOA, NumPyMinimumEigensolver\n",
    "from qiskit.utils import QuantumInstance\n",
    "from qiskit_optimization import QuadraticProgram\n",
    "\n",
    "from qiskit.opflow import Z, I\n",
    "from ibm_quantum_widgets import *\n",
    "from qiskit.visualization import plot_histogram\n",
    "# from qiskit.quantum_info.operators import Operator, Pauli\n",
    "\n",
    "from qiskit.opflow import PauliExpectation, CVaRExpectation\n",
    "from qiskit.circuit.library import RealAmplitudes\n",
    "from qiskit_optimization.converters import LinearEqualityToPenalty\n",
    "\n",
    "from qiskit_optimization.algorithms import GroverOptimizer, MinimumEigenOptimizer\n",
    "# Loading your IBM Quantum account(s)\n",
    "provider = IBMQ.load_account()"
   ]
  },
  {
   "cell_type": "markdown",
   "id": "d3ad6a14-4ed1-44af-8d4a-5c3150ed6d91",
   "metadata": {
    "tags": []
   },
   "source": [
    "## QP define"
   ]
  },
  {
   "cell_type": "code",
   "execution_count": 2,
   "id": "4187632b-2cba-433f-af70-b8fb813291e8",
   "metadata": {},
   "outputs": [],
   "source": [
    "def operator_from_adjacency_matrix(adj_mtx):\n",
    "    qubit_num = len(adj_mtx)\n",
    "    \n",
    "    iden = I\n",
    "    for i in range(1,qubit_num):\n",
    "        iden = iden^I\n",
    "    \n",
    "    op = iden-iden\n",
    "    # print(op)\n",
    "    \n",
    "    for i in range(qubit_num):\n",
    "        for j in range(qubit_num):\n",
    "            if i > j:\n",
    "                # 2ZiZj\n",
    "                temp = np.ones(qubit_num)*I\n",
    "                temp[i] = Z\n",
    "                temp[j] = Z\n",
    "                \n",
    "                op_0 = temp[0]\n",
    "                for k in range(1, qubit_num):\n",
    "                    op_0 = op_0^temp[k]\n",
    "                    \n",
    "                print(op_0)\n",
    "                op = op + 2*op_0\n",
    "                \n",
    "                # 0.5*I - 0.5*ZiZj\n",
    "                if adj_mtx[i][j] == 1:\n",
    "                    op = op + (0.5*iden - 0.5 * op_0)\n",
    "    op = op + qubit_num * iden\n",
    "        \n",
    "    return op"
   ]
  },
  {
   "cell_type": "code",
   "execution_count": 3,
   "id": "490f6964-0336-49a3-85c7-67be6442cdf6",
   "metadata": {},
   "outputs": [
    {
     "name": "stdout",
     "output_type": "stream",
     "text": [
      "[[0, 1, 0, 0, 1, 0, 1, 0], [1, 0, 1, 0, 0, 0, 0, 0], [0, 1, 0, 0, 0, 1, 0, 1], [0, 0, 0, 0, 1, 0, 0, 0], [1, 0, 0, 1, 0, 1, 0, 0], [0, 0, 1, 0, 1, 0, 0, 0], [1, 0, 0, 0, 0, 0, 0, 0], [0, 0, 1, 0, 0, 0, 0, 0]]\n"
     ]
    }
   ],
   "source": [
    "def convert_to_matrix(graph):\n",
    "    matrix = []\n",
    "    for i in range(len(graph)): \n",
    "        matrix.append([0]*(len(graph)))\n",
    "        for j in graph[i]:\n",
    "            matrix[i][j] = 1\n",
    "    return matrix\n",
    "\n",
    "#the lst shows in a form of each index(each inner list) as a form of vertex,\n",
    "#and each element in the inner list as the vertices that each vertex connected to.\n",
    "lst = [[1,4,6],[0,2],[1,5,7],[4],[0,3,5],[2,4],[0],[2]]\n",
    "print(convert_to_matrix(lst))"
   ]
  },
  {
   "cell_type": "code",
   "execution_count": 4,
   "id": "853ca5ce-fa33-4dbf-8e46-5f4980d69279",
   "metadata": {},
   "outputs": [
    {
     "name": "stdout",
     "output_type": "stream",
     "text": [
      "ZZIIIIII\n",
      "ZIZIIIII\n",
      "IZZIIIII\n",
      "ZIIZIIII\n",
      "IZIZIIII\n",
      "IIZZIIII\n",
      "ZIIIZIII\n",
      "IZIIZIII\n",
      "IIZIZIII\n",
      "IIIZZIII\n",
      "ZIIIIZII\n",
      "IZIIIZII\n",
      "IIZIIZII\n",
      "IIIZIZII\n",
      "IIIIZZII\n",
      "ZIIIIIZI\n",
      "IZIIIIZI\n",
      "IIZIIIZI\n",
      "IIIZIIZI\n",
      "IIIIZIZI\n",
      "IIIIIZZI\n",
      "ZIIIIIIZ\n",
      "IZIIIIIZ\n",
      "IIZIIIIZ\n",
      "IIIZIIIZ\n",
      "IIIIZIIZ\n",
      "IIIIIZIZ\n",
      "IIIIIIZZ\n",
      "minimize -25*x0^2 + 6*x0*x1 + 8*x0*x2 + 8*x0*x3 + 6*x0*x4 + 8*x0*x5 + 6*x0*x6 + 8*x0*x7 - 26*x1^2 + 6*x1*x2 + 8*x1*x3 + 8*x1*x4 + 8*x1*x5 + 8*x1*x6 + 8*x1*x7 - 25*x2^2 + 8*x2*x3 + 8*x2*x4 + 6*x2*x5 + 8*x2*x6 + 6*x2*x7 - 27*x3^2 + 6*x3*x4 + 8*x3*x5 + 8*x3*x6 + 8*x3*x7 - 25*x4^2 + 6*x4*x5 + 8*x4*x6 + 8*x4*x7 - 26*x5^2 + 8*x5*x6 + 8*x5*x7 - 27*x6^2 + 8*x6*x7 - 27*x7^2 + 64 (8 variables, 0 constraints, '')\n"
     ]
    }
   ],
   "source": [
    "adj_mtx = [[0, 0, 0, 0, 0, 1, 0, 0], [0, 0, 0, 0, 0, 0, 0, 1], [0, 0, 0, 1, 0, 1, 0, 0], [0, 0, 1, 0, 1, 0, 0, 1], \n",
    "           [0, 0, 0, 1, 0, 0, 0, 0], [1, 0, 1, 0, 0, 0, 1, 0], [0, 0, 0, 0, 0, 1, 0, 1], [0, 1, 0, 1, 0, 0, 1, 0]]\n",
    "# adj_mtx = [[0, 1, 0, 0, 1, 0, 1, 0], [1, 0, 1, 0, 0, 0, 0, 0], [0, 1, 0, 0, 0, 1, 0, 1], [0, 0, 0, 0, 1, 0, 0, 0], \n",
    "#            [1, 0, 0, 1, 0, 1, 0, 0], [0, 0, 1, 0, 1, 0, 0, 0], [1, 0, 0, 0, 0, 0, 0, 0], [0, 0, 1, 0, 0, 0, 0, 0]]\n",
    "# adj_mtx = [[0. 1. 1. 1.], [1. 0. 1. 0.], [1. 1. 0. 1.], [1. 0. 1. 0.]]\n",
    "op = operator_from_adjacency_matrix(adj_mtx)\n",
    "op.to_matrix_op()\n",
    "# print(op)\n",
    "qp = QuadraticProgram()\n",
    "qp.from_ising(op)\n",
    "print(qp)"
   ]
  },
  {
   "cell_type": "markdown",
   "id": "06af429a-ec5b-4ef3-a57a-093b6a7e7fff",
   "metadata": {},
   "source": [
    "## VQE"
   ]
  },
  {
   "cell_type": "code",
   "execution_count": 5,
   "id": "7d389c16-20e7-4893-ade1-b9115883b226",
   "metadata": {},
   "outputs": [
    {
     "name": "stdout",
     "output_type": "stream",
     "text": [
      "[SolutionSample(x=array([0., 0., 1., 1., 0., 1., 0., 1.]), fval=3.0, probability=0.08624486296992093, status=<OptimizationResultStatus.SUCCESS: 0>), SolutionSample(x=array([0., 0., 1., 0., 0., 1., 1., 1.]), fval=3.0, probability=0.9137533679209364, status=<OptimizationResultStatus.SUCCESS: 0>), SolutionSample(x=array([0., 0., 0., 0., 1., 0., 1., 1.]), fval=9.0, probability=1.0676381108367376e-06, status=<OptimizationResultStatus.SUCCESS: 0>)]\n"
     ]
    }
   ],
   "source": [
    "optimizer = SLSQP(maxiter=10000)\n",
    "algorithm_globals.random_seed = 1234\n",
    "seed = 11234\n",
    "num = 8\n",
    "backend = Aer.get_backend('statevector_simulator')\n",
    "\n",
    "ry = TwoLocal(num, 'ry', 'cz', reps=4, entanglement='full')\n",
    "quantum_instance = QuantumInstance(backend=backend, seed_simulator=seed, seed_transpiler=seed)\n",
    "vqe = VQE(ry, optimizer=optimizer, quantum_instance=quantum_instance)\n",
    "\n",
    "vqe_meo = MinimumEigenOptimizer(vqe)\n",
    "\n",
    "result = vqe_meo.solve(qp)\n",
    "\n",
    "print(result.samples)"
   ]
  },
  {
   "cell_type": "code",
   "execution_count": 6,
   "id": "14d16c7b-44e3-46db-9cd3-ae0cdf61725d",
   "metadata": {},
   "outputs": [
    {
     "name": "stdout",
     "output_type": "stream",
     "text": [
      "alpha = 1.0:\n",
      "objective function value: 2.0\n",
      "variable values: x0=0.0, x1=1.0, x2=1.0, x3=0.0, x4=0.0, x5=1.0, x6=0.0, x7=1.0\n",
      "status: SUCCESS\n",
      "\n",
      "alpha = 0.5:\n",
      "objective function value: 2.0\n",
      "variable values: x0=1.0, x1=0.0, x2=0.0, x3=1.0, x4=1.0, x5=0.0, x6=1.0, x7=0.0\n",
      "status: SUCCESS\n",
      "\n",
      "alpha = 0.25:\n",
      "objective function value: 2.0\n",
      "variable values: x0=0.0, x1=1.0, x2=1.0, x3=0.0, x4=0.0, x5=1.0, x6=0.0, x7=1.0\n",
      "status: SUCCESS\n",
      "\n"
     ]
    }
   ],
   "source": [
    "n = 8\n",
    "penalty = 2 * n\n",
    "\n",
    "linear2penalty = LinearEqualityToPenalty(penalty=penalty)\n",
    "qp = linear2penalty.convert(qp)\n",
    "_, offset = qp.to_ising()\n",
    "\n",
    "# set classical optimizer\n",
    "maxiter = 1000\n",
    "optimizer = COBYLA(maxiter=maxiter)\n",
    "# set variational ansatz\n",
    "ansatz = RealAmplitudes(n, reps=1)\n",
    "m = ansatz.num_parameters\n",
    "\n",
    "# set backend\n",
    "backend_name = \"qasm_simulator\"  # use this for QASM simulator\n",
    "# backend_name = 'aer_simulator_statevector'  # use this for statevector simlator\n",
    "backend = Aer.get_backend(backend_name)\n",
    "\n",
    "# run variational optimization for different values of alpha\n",
    "alphas = [1.0, 0.50, 0.25]  # confidence levels to be evaluated\n",
    "# dictionaries to store optimization progress and results\n",
    "objectives = {alpha: [] for alpha in alphas}  # set of tested objective functions w.r.t. alpha\n",
    "results = {}  # results of minimum eigensolver w.r.t alpha\n",
    "\n",
    "# callback to store intermediate results\n",
    "def callback(i, params, obj, stddev, alpha):\n",
    "    # we translate the objective from the internal Ising representation\n",
    "    # to the original optimization problem\n",
    "    objectives[alpha] += [-(obj + offset)]\n",
    "\n",
    "for alpha in alphas:\n",
    "\n",
    "    # initialize CVaR_alpha objective\n",
    "    cvar_exp = CVaRExpectation(alpha, PauliExpectation())\n",
    "    cvar_exp.compute_variance = lambda x: [0]  # to be fixed in PR #1373\n",
    "\n",
    "    # initialize VQE using CVaR\n",
    "    vqe = VQE(\n",
    "        expectation=cvar_exp,\n",
    "        optimizer=optimizer,\n",
    "        ansatz=ansatz,\n",
    "        quantum_instance=backend,\n",
    "        callback=lambda i, params, obj, stddev: callback(i, params, obj, stddev, alpha),\n",
    "    )\n",
    "\n",
    "    # initialize optimization algorithm based on CVaR-VQE\n",
    "    opt_alg = MinimumEigenOptimizer(vqe)\n",
    "\n",
    "    # solve problem\n",
    "    results[alpha] = opt_alg.solve(qp)\n",
    "\n",
    "    # print results\n",
    "    print(\"alpha = {}:\".format(alpha))\n",
    "    print(results[alpha].prettyprint())\n",
    "    print()"
   ]
  },
  {
   "cell_type": "code",
   "execution_count": null,
   "id": "f6914432-3541-43c7-b210-d5b6c7154af4",
   "metadata": {},
   "outputs": [
    {
     "name": "stdout",
     "output_type": "stream",
     "text": [
      "fval=3.0, x0=1.0, x1=0.0, x2=0.0, x3=1.0, x4=1.0, x5=1.0, x6=0.0, x7=0.0, status=SUCCESS\n"
     ]
    }
   ],
   "source": [
    "x = []\n",
    "prob = np.zeros([4, 10])\n",
    "func = np.zeros([4, 10])\n",
    "\n",
    "for opt in range(4):\n",
    "    for it in range(1, 11):\n",
    "        if opt == 0:\n",
    "            optimizer = SLSQP(maxiter=1000)  \n",
    "        elif opt == 1:\n",
    "            optimizer = COBYLA(maxiter=1000)\n",
    "        elif opt == 2:\n",
    "            optimizer = NELDER_MEAD(maxiter=1000)\n",
    "        elif opt == 3:\n",
    "            optimizer = POWELL(maxiter=1000)\n",
    "\n",
    "        algorithm_globals.random_seed = 1234\n",
    "        seed = 12345\n",
    "        backend = Aer.get_backend('statevector_simulator')\n",
    "        qNum = 8\n",
    "        \n",
    "        ry = TwoLocal(qNum, 'ry', 'cz', reps=it, entanglement='full')\n",
    "        quantum_instance = QuantumInstance(backend=backend, seed_simulator=seed, seed_transpiler=seed)\n",
    "        vqe = VQE(ry, optimizer=optimizer, quantum_instance=quantum_instance)\n",
    "\n",
    "        vqe_meo = MinimumEigenOptimizer(vqe)\n",
    "\n",
    "        result = vqe_meo.solve(qp)\n",
    "\n",
    "        print(result)\n",
    "\n",
    "        prob = {}\n",
    "        fval = {}\n",
    "        \n",
    "            \n",
    "            \n",
    "        for i in range(len(result.samples)):\n",
    "            tmp = \"\"\n",
    "            count = 0\n",
    "            for num in range(8):\n",
    "                tmp += str(int(result.samples[i].x[num]))\n",
    "                count += int(result.samples[i].x[num])\n",
    "            \n",
    "            prob[tmp] = result.samples[i].probability\n",
    "            fval[tmp] = result.samples[i].fval\n",
    "\n",
    "\n",
    "        np.save(f\"data/VQE/prob_all_opt{opt}_layer{it}.npy\", prob)\n",
    "        np.save(f\"data/VQE/fval_all_opt{opt}_layer{it}.npy\", fval)\n",
    "\n",
    "\n"
   ]
  },
  {
   "cell_type": "markdown",
   "id": "f57a74a4-47ec-4fdd-80f5-a21f9d26b6ba",
   "metadata": {},
   "source": [
    "#### Plot"
   ]
  },
  {
   "cell_type": "code",
   "execution_count": 72,
   "id": "49b1e905-1cc2-4511-97ca-340ea1468468",
   "metadata": {},
   "outputs": [
    {
     "data": {
      "image/png": "[encoded data removed]",
      "text/plain": [
       "<Figure size 1080x576 with 1 Axes>"
      ]
     },
     "metadata": {
      "needs_background": "light"
     },
     "output_type": "display_data"
    }
   ],
   "source": [
    "classical_exp = 2\n",
    "probability = np.zeros([4, 10])\n",
    "cost = np.zeros([4, 10])\n",
    "pdepth = np.arange(1, 11)\n",
    "expectation = np.zeros([4, 10])\n",
    "for opt in range(4):\n",
    "    for it in range(1, 11):\n",
    "        df = np.load(f\"data/VQE/prob_all_opt{opt}_layer{it}.npy\",allow_pickle='TRUE').item()\n",
    "        df2 = np.load(f\"data/VQE/fval_all_opt{opt}_layer{it}.npy\",allow_pickle='TRUE').item()\n",
    "        probability[opt, it-1] = df.get('10011010', 0)\n",
    "        probability[opt, it-1] += df.get('01100101', 0)\n",
    "        cost[opt, it-1] = df2.get('10011010', 0)\n",
    "        for key in df:\n",
    "            expectation[opt, it-1] += df[key] * df2[key]\n",
    "        \n",
    "\n",
    "alpha = (expectation - classical_exp) / np.abs(classical_exp)\n",
    "\n",
    "plt.figure(figsize=(10,8))\n",
    "for opt in range(4):\n",
    "    plt.plot(pdepth, probability[opt])\n",
    "plt.legend([\"SLSQP\", \"COBYLA\", \"NELDER_MEAD\", \"POWELL\"])\n",
    "plt.xlim(0.5, 10.5)\n",
    "plt.ylim(0, 1)\n",
    "plt.xticks(np.arange(1, 11), [\"1\", \"2\", \"3\", \"4\", \"5\", \"6\", \"7\", \"8\", \"9\", \"10\"], fontsize=18)\n",
    "plt.title(\"VQE, Probability of Finding Right Answer\\n (10011010 or 01100101)\", fontsize=18)\n",
    "plt.xlabel(\"p-depth\", fontsize=18)\n",
    "plt.ylabel(\"Probability\", fontsize=18)\n",
    "plt.grid(\"--\")\n",
    "plt.savefig(f\"graph/VQE/prob.png\", bbox_inches='tight',pad_inches = 0,dpi=300)\n",
    "plt.close()\n",
    "\n",
    "plt.figure(figsize=(10,8))\n",
    "for opt in range(4):\n",
    "    plt.plot(pdepth, expectation[opt])\n",
    "plt.legend([\"SLSQP\", \"COBYLA\", \"NELDER_MEAD\", \"POWELL\"])\n",
    "plt.xlim(0.5, 10.5)\n",
    "plt.ylim(2, 8)\n",
    "plt.xticks(np.arange(1, 11), [\"1\", \"2\", \"3\", \"4\", \"5\", \"6\", \"7\", \"8\", \"9\", \"10\"], fontsize=18)\n",
    "plt.title(\"VQE, Expectation of Cost Function\\n (Right Answer: 2)\", fontsize=18)\n",
    "plt.xlabel(\"p-depth\", fontsize=18)\n",
    "plt.ylabel(\"Expectation Value\", fontsize=18)\n",
    "plt.grid(\"--\")\n",
    "plt.savefig(f\"graph/VQE/expect.png\", bbox_inches='tight',pad_inches = 0,dpi=300) \n",
    "plt.close()\n",
    "\n",
    "plt.figure(figsize=(15,8))\n",
    "for opt in range(4):\n",
    "    plt.plot(pdepth, alpha[opt])\n",
    "plt.legend([\"SLSQP\", \"COBYLA\", \"ADAM\", \"CG\", \"Gradient descent\"])\n",
    "plt.xlim(0.5, 10.5)\n",
    "plt.ylim(0, 5)\n",
    "plt.xticks(np.arange(1, 11), [\"1\", \"2\", \"3\", \"4\", \"5\", \"6\", \"7\", \"8\", \"9\", \"10\"], fontsize=18)\n",
    "plt.title(r\"VQE, $\\frac{expectation - classical\\ expectation}{|classical\\ expectation|}$\", fontsize=18)\n",
    "plt.xlabel(\"p-depth\", fontsize=18)\n",
    "plt.ylabel(\"Error rate\", fontsize=18)\n",
    "plt.grid(\"--\")\n",
    "plt.savefig(f\"graph/VQE/alpha.png\", bbox_inches='tight',pad_inches = 0,dpi=300) \n",
    "plt.show()\n",
    "plt.close()"
   ]
  },
  {
   "cell_type": "code",
   "execution_count": null,
   "id": "dd54c0cc-3318-4908-919e-3374a40c714e",
   "metadata": {},
   "outputs": [],
   "source": [
    "dd = np.load(f\"data/QAOA/prob_all_opt0_layer1.npy\",allow_pickle='TRUE').item()\n",
    "new_ans = {}\n",
    "x = []\n",
    "for key in dd:\n",
    "    tmp = 0\n",
    "    for i in range(8):\n",
    "        tmp += int(key[i])\n",
    "    if tmp == 4:\n",
    "        x.append(key)\n",
    "\n",
    "for it in range(1,11):\n",
    "    df = np.load(f\"data/VQE/prob_all_opt0_layer{it}.npy\",allow_pickle='TRUE').item()\n",
    "    df2 = np.load(f\"data/VQE/prob_all_opt1_layer{it}.npy\",allow_pickle='TRUE').item()\n",
    "    df3 = np.load(f\"data/VQE/prob_all_opt2_layer{it}.npy\",allow_pickle='TRUE').item()\n",
    "    df4 = np.load(f\"data/VQE/prob_all_opt3_layer{it}.npy\",allow_pickle='TRUE').item()\n",
    "\n",
    "    y = np.zeros(len(x))\n",
    "    y2 = np.zeros(len(x))\n",
    "    y3 = np.zeros(len(x))\n",
    "    y4 = np.zeros(len(x))\n",
    "\n",
    "    for i in range(len(x)):\n",
    "        y[i] = float(df.get(x[i], 0.))\n",
    "        y2[i] = float(df2.get(x[i], 0.))\n",
    "        y3[i] = float(df3.get(x[i], 0.))\n",
    "        y4[i] = float(df4.get(x[i], 0.))\n",
    "\n",
    "\n",
    "    wid = 0.5\n",
    "    X = np.linspace(0, 150, len(x))\n",
    "    plt.figure(figsize=(25, 8))\n",
    "    plt.xlim(-2, 155)\n",
    "    # plt.ylim(0, 1)\n",
    "    plt.title(f\"VQE, Reps={it}\", fontsize=16)\n",
    "    plt.bar(X, y, width=wid, color='r')\n",
    "    plt.bar(X+0.5, y2, width=wid, color='b')\n",
    "    plt.bar(X+1, y3, width=wid, color='k')\n",
    "    plt.bar(X+1.5, y4, width=wid, color='g')\n",
    "    plt.legend(labels=[\"SLSQP\", \"COBYLA\", \"NELDER_MEAD\", \"POWELL\"])\n",
    "    plt.xticks(X, x)\n",
    "    plt.ylabel(\"Probabilities\", fontsize=16)\n",
    "\n",
    "    plt.xticks(rotation=90, fontsize=16)\n",
    "    plt.savefig(f\"graph/VQE/few_{it}.png\", bbox_inches='tight',pad_inches = 0,dpi=200)\n",
    "    plt.show()\n",
    "    plt.close()"
   ]
  },
  {
   "cell_type": "markdown",
   "id": "ac8d5a62-d0be-4b60-9798-4b2d0c80558b",
   "metadata": {},
   "source": [
    "## Classical"
   ]
  },
  {
   "cell_type": "code",
   "execution_count": null,
   "id": "485b01ef-e591-4237-83ec-c08096b53245",
   "metadata": {},
   "outputs": [],
   "source": [
    "# solving Quadratic Program using exact classical eigensolver\n",
    "exact = MinimumEigenOptimizer(NumPyMinimumEigensolver())\n",
    "result = exact.solve(qp)\n",
    "print(result.prettyprint())"
   ]
  },
  {
   "cell_type": "markdown",
   "id": "dc38d240-7d41-4155-b47a-274df99890d1",
   "metadata": {},
   "source": [
    "## QAOA"
   ]
  },
  {
   "cell_type": "code",
   "execution_count": null,
   "id": "6015c47f-eaf5-4859-a722-32bd85aa4dd2",
   "metadata": {},
   "outputs": [],
   "source": [
    "adj_mtx = [[0, 0, 0, 0, 0, 1, 0, 0], [0, 0, 0, 0, 0, 0, 0, 1], [0, 0, 0, 1, 0, 1, 0, 0], [0, 0, 1, 0, 1, 0, 0, 1], \n",
    "           [0, 0, 0, 1, 0, 0, 0, 0], [1, 0, 1, 0, 0, 0, 1, 0], [0, 0, 0, 0, 0, 1, 0, 1], [0, 1, 0, 1, 0, 0, 1, 0]]\n",
    "# adj_mtx = [[0, 0, 0, 0, 0, 1, 0, 0], [0, 0, 0, 1, 0, 0, 0, 1], [0, 0, 0, 1, 0, 1, 0, 0], [0, 1, 1, 0, 0, 0, 0, 0, 0], [0, 0, 0, 1, 0, 0, 0, 0, 0], [1, 0, 1, 0, 0, 0, 1, 0, 0], [0, 0, 0, 0, 0, 1, 0, 1, 0], [0, 1, 0, 0, 0, 0, 1, 0, 0]]\n",
    "op = operator_from_adjacency_matrix(adj_mtx)\n",
    "op.to_matrix_op()\n",
    "# print(op)\n",
    "qp = QuadraticProgram()\n",
    "qp.from_ising(op)"
   ]
  },
  {
   "cell_type": "code",
   "execution_count": null,
   "id": "6dfeca0f-5780-4958-94a3-39ed6364f3dc",
   "metadata": {},
   "outputs": [],
   "source": [
    "optimizer = SLSQP(maxiter=10000)\n",
    "algorithm_globals.random_seed = 1234\n",
    "seed = 11234\n",
    "backend = Aer.get_backend('statevector_simulator')\n",
    "\n",
    "quantum_instance = QuantumInstance(backend=backend, seed_simulator=seed, seed_transpiler=seed)\n",
    "qaoa = QAOA(optimizer=optimizer, reps=3, quantum_instance=quantum_instance)\n",
    "meo = MinimumEigenOptimizer(qaoa)\n",
    "\n",
    "qaoa_meo = MinimumEigenOptimizer(qaoa)\n",
    "\n",
    "result = qaoa_meo.solve(qp)\n",
    "\n",
    "print(result.samples)\n",
    "print(result)"
   ]
  },
  {
   "cell_type": "code",
   "execution_count": null,
   "id": "c5a97275-566f-4b99-a71f-ee26085b53b7",
   "metadata": {},
   "outputs": [],
   "source": [
    "x = []\n",
    "prob = np.zeros([4, 10])\n",
    "func = np.zeros([4, 10])\n",
    "\n",
    "for opt in range(4):\n",
    "    for it in range(1, 11):\n",
    "        if opt == 0:\n",
    "            optimizer = SLSQP(maxiter=1000)  \n",
    "        elif opt == 1:\n",
    "            optimizer = COBYLA(maxiter=1000)\n",
    "        elif opt == 2:\n",
    "            optimizer = NELDER_MEAD(maxiter=1000)\n",
    "        elif opt == 3:\n",
    "            optimizer = POWELL(maxiter=1000)\n",
    "\n",
    "        algorithm_globals.random_seed = 1234\n",
    "        seed = 12345\n",
    "        backend = Aer.get_backend('statevector_simulator')\n",
    "        qNum = 8\n",
    "        \n",
    "        qaoa = QAOA(optimizer=optimizer, reps=3, quantum_instance=quantum_instance)\n",
    "        meo = MinimumEigenOptimizer(qaoa)\n",
    "        qaoa_meo = MinimumEigenOptimizer(qaoa)\n",
    "\n",
    "        result = qaoa_meo.solve(qp)\n",
    "\n",
    "        print(result)\n",
    "\n",
    "        prob = {}\n",
    "        fval = {}\n",
    "            \n",
    "            \n",
    "        for i in range(len(result.samples)):\n",
    "            tmp = \"\"\n",
    "            count = 0\n",
    "            for num in range(8):\n",
    "                tmp += str(int(result.samples[i].x[num]))\n",
    "                count += int(result.samples[i].x[num])\n",
    "            \n",
    "            prob[tmp] = result.samples[i].probability\n",
    "            fval[tmp] = result.samples[i].fval\n",
    "\n",
    "\n",
    "        np.save(f\"data/QAOA/prob_all_opt{opt}_layer{it}.npy\", prob)\n",
    "        np.save(f\"data/QAOA/fval_all_opt{opt}_layer{it}.npy\", fval)"
   ]
  },
  {
   "cell_type": "code",
   "execution_count": null,
   "id": "ba3aa270-03cc-40f7-9a8c-45c2d1a48799",
   "metadata": {},
   "outputs": [],
   "source": [
    "\n",
    "prob = {}\n",
    "fval = {}\n",
    "print(result.samples[0].x)\n",
    "for i in range(len(result.samples)):\n",
    "    tmp = \"\"\n",
    "    count = 0\n",
    "    for num in range(8):\n",
    "        tmp += str(int(result.samples[i].x[num]))\n",
    "        count += int(result.samples[i].x[num])\n",
    "    \n",
    "    if count == 4:\n",
    "        prob[tmp] = result.samples[i].probability\n",
    "        fval[tmp] = result.samples[i].fval\n",
    "\n",
    "print(fval)\n"
   ]
  },
  {
   "cell_type": "markdown",
   "id": "96e3f9e4-ee6e-4716-8fda-be9474556613",
   "metadata": {},
   "source": [
    "#### Plot"
   ]
  },
  {
   "cell_type": "code",
   "execution_count": 73,
   "id": "2c6a22eb-b7d7-4dbc-99c0-7ad9a2cadccf",
   "metadata": {},
   "outputs": [
    {
     "data": {
      "image/png": "[encoded data removed]",
      "text/plain": [
       "<Figure size 1080x576 with 1 Axes>"
      ]
     },
     "metadata": {
      "needs_background": "light"
     },
     "output_type": "display_data"
    }
   ],
   "source": [
    "classical_exp = 2\n",
    "probability = np.zeros([4, 10])\n",
    "cost = np.zeros([4, 10])\n",
    "pdepth = np.arange(1, 11)\n",
    "expectation = np.zeros([4, 10])\n",
    "for opt in range(4):\n",
    "    for it in range(1, 11):\n",
    "        df = np.load(f\"data/QAOA/prob_all_opt{opt}_layer{it}.npy\",allow_pickle='TRUE').item()\n",
    "        df2 = np.load(f\"data/QAOA/fval_all_opt{opt}_layer{it}.npy\",allow_pickle='TRUE').item()\n",
    "        probability[opt, it-1] = df.get('10011010', 0)\n",
    "        probability[opt, it-1] += df.get('01100101', 0)\n",
    "        cost[opt, it-1] = df2.get('10011010', 0)\n",
    "        for key in df:\n",
    "            expectation[opt, it-1] += df[key] * df2[key]\n",
    "        \n",
    "\n",
    "alpha = (expectation - classical_exp) / np.abs(classical_exp)\n",
    "\n",
    "plt.figure(figsize=(10,8))\n",
    "for opt in range(4):\n",
    "    plt.plot(pdepth, probability[opt])\n",
    "plt.legend([\"SLSQP\", \"COBYLA\", \"NELDER_MEAD\", \"POWELL\"])\n",
    "plt.xlim(0.5, 10.5)\n",
    "plt.ylim(0, 1)\n",
    "plt.xticks(np.arange(1, 11), [\"1\", \"2\", \"3\", \"4\", \"5\", \"6\", \"7\", \"8\", \"9\", \"10\"], fontsize=18)\n",
    "plt.title(\"QAOA, Probability of Finding Right Answer\\n (10011010 or 01100101)\", fontsize=18)\n",
    "plt.xlabel(\"p-depth\", fontsize=18)\n",
    "plt.ylabel(\"Probability\", fontsize=18)\n",
    "plt.grid(\"--\")\n",
    "plt.savefig(f\"graph/QAOA/prob.png\", bbox_inches='tight',pad_inches = 0,dpi=300)\n",
    "plt.close()\n",
    "\n",
    "plt.figure(figsize=(10,8))\n",
    "for opt in range(4):\n",
    "    plt.plot(pdepth, expectation[opt])\n",
    "plt.legend([\"SLSQP\", \"COBYLA\", \"NELDER_MEAD\", \"POWELL\"])\n",
    "plt.xlim(0.5, 10.5)\n",
    "# plt.ylim(2, 8)\n",
    "plt.xticks(np.arange(1, 11), [\"1\", \"2\", \"3\", \"4\", \"5\", \"6\", \"7\", \"8\", \"9\", \"10\"], fontsize=18)\n",
    "plt.title(\"QAOA, Expectation of Cost Function\\n (Right Answer: 2)\", fontsize=18)\n",
    "plt.xlabel(\"p-depth\", fontsize=18)\n",
    "plt.ylabel(\"Expectation Value\", fontsize=18)\n",
    "plt.grid(\"--\")\n",
    "plt.savefig(f\"graph/QAOA/expect.png\", bbox_inches='tight',pad_inches = 0,dpi=300) \n",
    "plt.close()\n",
    "\n",
    "plt.figure(figsize=(15,8))\n",
    "for opt in range(4):\n",
    "    plt.plot(pdepth, alpha[opt])\n",
    "plt.legend([\"SLSQP\", \"COBYLA\", \"NELDER_MEAD\", \"POWELL\"])\n",
    "plt.xlim(0.5, 10.5)\n",
    "plt.ylim(0, 5)\n",
    "plt.xticks(np.arange(1, 11), [\"1\", \"2\", \"3\", \"4\", \"5\", \"6\", \"7\", \"8\", \"9\", \"10\"], fontsize=18)\n",
    "plt.title(r\"QAOA, $\\frac{expectation - classical\\ expectation}{|classical\\ expectation|}$\", fontsize=18)\n",
    "plt.xlabel(\"p-depth\", fontsize=18)\n",
    "plt.ylabel(\"Error rate\", fontsize=18)\n",
    "plt.grid(\"--\")\n",
    "plt.savefig(f\"graph/QAOA/alpha.png\", bbox_inches='tight',pad_inches = 0,dpi=300) \n",
    "plt.show()\n",
    "plt.close()"
   ]
  },
  {
   "cell_type": "markdown",
   "id": "0da9c949-6ec4-455c-b5ea-3df91dac8ca7",
   "metadata": {},
   "source": [
    "## Grover"
   ]
  },
  {
   "cell_type": "code",
   "execution_count": null,
   "id": "51d05b0b-c3e1-4b78-9df9-5087d56448b7",
   "metadata": {},
   "outputs": [],
   "source": [
    "iter_arr = np.linspace(1,8,8)\n",
    "ratio_arr = np.linspace(0.2,2,5)\n",
    "op = operator_from_adjacency_matrix(adj_mtx)\n",
    "for iter_idx in range(len(iter_arr)):\n",
    "        \n",
    "    iter_num = iter_arr[iter_idx]\n",
    "    qp = QuadraticProgram()\n",
    "    qp.from_ising(op)\n",
    "    backend = Aer.get_backend('statevector_simulator')\n",
    "\n",
    "    grover_optimizer = GroverOptimizer(8, num_iterations=iter_num, quantum_instance=backend)\n",
    "    result = grover_optimizer.solve(qp)\n",
    "    print(result.prettyprint())\n",
    "\n",
    "    prob = {}\n",
    "    fval = {}\n",
    "\n",
    "\n",
    "    for i in range(len(result.samples)):\n",
    "        tmp = \"\"\n",
    "        count = 0\n",
    "        for num in range(8):\n",
    "            tmp += str(int(result.samples[i].x[num]))\n",
    "            count += int(result.samples[i].x[num])\n",
    "\n",
    "        prob[tmp] = result.samples[i].probability\n",
    "        fval[tmp] = result.samples[i].fval\n",
    "\n",
    "\n",
    "    np.save(f\"data/GROVER/prob_iter{iter_num}.npy\", prob)\n",
    "    np.save(f\"data/GROVER/fval_iter{iter_num}.npy\", fval)"
   ]
  },
  {
   "cell_type": "code",
   "execution_count": null,
   "id": "4a8fb10e-6c64-41ca-8603-fe5bed66fea6",
   "metadata": {},
   "outputs": [],
   "source": [
    "grover_optimizer = GroverOptimizer(8, num_iterations=15, quantum_instance=backend)\n",
    "results = grover_optimizer.solve(qp)\n",
    "print(results.prettyprint())"
   ]
  },
  {
   "cell_type": "code",
   "execution_count": null,
   "id": "f6c7f9db-bf15-4394-a29b-cb4b57381e62",
   "metadata": {},
   "outputs": [],
   "source": [
    "def opt_ans(result_dict,adj_mtx):\n",
    "    # find the optimal term\n",
    "    qubit_num = len(adj_mtx)\n",
    "    cut_dict = {}\n",
    "    for bitstr in result_dict:\n",
    "        cut = 0\n",
    "        ans = bitstr\n",
    "    # reverse the order of qubit so that ith qubit correspond to ith term\n",
    "        ans = list(ans)\n",
    "        ans.reverse()\n",
    "\n",
    "        for i in range(qubit_num):\n",
    "            for j in range(qubit_num):\n",
    "                if i>j and adj_mtx[i][j] == 1 and ans[i] != ans[j]:\n",
    "                    cut += 1\n",
    "                    \n",
    "        cut_dict[bitstr] = cut\n",
    "    return cut_dict\n",
    "\n",
    "opt, it = 0, 1\n",
    "df = np.load(f\"data/QAOA/prob_all_opt{opt}_layer{it}.npy\",allow_pickle='TRUE').item()\n",
    "# opt_ans(, adj_mtx)\n",
    "\n",
    "\n",
    "ans = opt_ans(df, adj_mtx)\n",
    "new_ans = {}\n",
    "for key in ans:\n",
    "    tmp = 0\n",
    "    for i in range(8):\n",
    "        tmp += int(key[i])\n",
    "    if tmp == 4:\n",
    "        new_ans[key] = ans[key]\n",
    "print(new_ans)"
   ]
  },
  {
   "cell_type": "code",
   "execution_count": null,
   "id": "abfeb85a-6ace-409a-8d2c-052708e2047b",
   "metadata": {},
   "outputs": [],
   "source": [
    "dd = np.load(f\"data/QAOA/prob_all_opt0_layer1.npy\",allow_pickle='TRUE').item()\n",
    "new_ans = {}\n",
    "x = []\n",
    "for key in dd:\n",
    "    tmp = 0\n",
    "    for i in range(8):\n",
    "        tmp += int(key[i])\n",
    "    if tmp == 4:\n",
    "        x.append(key)\n",
    "\n",
    "for it in range(1,11):\n",
    "    df = np.load(f\"data/QAOA/prob_all_opt0_layer{it}.npy\",allow_pickle='TRUE').item()\n",
    "    df2 = np.load(f\"data/QAOA/prob_all_opt1_layer{it}.npy\",allow_pickle='TRUE').item()\n",
    "    df3 = np.load(f\"data/QAOA/prob_all_opt2_layer{it}.npy\",allow_pickle='TRUE').item()\n",
    "    df4 = np.load(f\"data/QAOA/prob_all_opt3_layer{it}.npy\",allow_pickle='TRUE').item()\n",
    "\n",
    "    y = np.zeros(len(x))\n",
    "    y2 = np.zeros(len(x))\n",
    "    y3 = np.zeros(len(x))\n",
    "    y4 = np.zeros(len(x))\n",
    "\n",
    "    for i in range(len(x)):\n",
    "        y[i] = float(df.get(x[i], 0.))\n",
    "        y2[i] = float(df2.get(x[i], 0.))\n",
    "        y3[i] = float(df3.get(x[i], 0.))\n",
    "        y4[i] = float(df4.get(x[i], 0.))\n",
    "\n",
    "\n",
    "    wid = 0.5\n",
    "    X = np.linspace(0, 150, len(x))\n",
    "    plt.figure(figsize=(25, 8))\n",
    "    plt.xlim(-2, 155)\n",
    "    # plt.ylim(0, 1)\n",
    "    plt.title(f\"QAOA, Reps={it}\", fontsize=16)\n",
    "    plt.bar(X, y, width=wid, color='r')\n",
    "    plt.bar(X+0.5, y2, width=wid, color='b')\n",
    "    plt.bar(X+1, y3, width=wid, color='k')\n",
    "    plt.bar(X+1.5, y4, width=wid, color='g')\n",
    "    plt.legend(labels=[\"SLSQP\", \"COBYLA\", \"NELDER_MEAD\", \"POWELL\"])\n",
    "    plt.xticks(X, x)\n",
    "    plt.ylabel(\"Probabilities\", fontsize=16)\n",
    "\n",
    "    plt.xticks(rotation=90, fontsize=16)\n",
    "    plt.savefig(f\"graph/QAOA/few_{it}.png\", bbox_inches='tight',pad_inches = 0,dpi=200)\n",
    "    plt.show()\n",
    "    plt.close()"
   ]
  },
  {
   "cell_type": "code",
   "execution_count": null,
   "id": "e2516a7a-663c-4151-bdd4-9c3851c3ef0e",
   "metadata": {},
   "outputs": [],
   "source": [
    "!ls"
   ]
  },
  {
   "cell_type": "code",
   "execution_count": null,
   "id": "f45fe4f9-8edd-4b08-b4ff-cd3042ddce1e",
   "metadata": {},
   "outputs": [],
   "source": [
    "!tar -czf data/GROVER.tar.gz data/GROVER"
   ]
  },
  {
   "cell_type": "markdown",
   "id": "72c0f981-2289-4994-9810-60b84730eb4d",
   "metadata": {},
   "source": [
    "## Normalized Plot"
   ]
  },
  {
   "cell_type": "markdown",
   "id": "7c1a229b-f2a3-4319-b6ad-632230b602ee",
   "metadata": {
    "tags": []
   },
   "source": [
    "#### VQE"
   ]
  },
  {
   "cell_type": "markdown",
   "id": "6d2bc18f-0120-4fce-b020-d1be5eea2cdb",
   "metadata": {},
   "source": [
    "##### Processed"
   ]
  },
  {
   "cell_type": "code",
   "execution_count": 7,
   "id": "82424798-8be6-4381-91f1-b4ff9e3deafe",
   "metadata": {},
   "outputs": [
    {
     "name": "stdout",
     "output_type": "stream",
     "text": [
      "[0.2  0.25 0.25 0.25 0.25]\n",
      "[0.2  0.2  0.2  0.2  0.2  0.2  0.2  0.2  0.2  0.2  0.25 0.25 0.25 0.25\n",
      " 0.25 0.25 0.25 0.25 0.25 0.25 0.25 0.25 0.25 0.25 0.25 0.25 0.25 0.25\n",
      " 0.25 0.25 0.25 0.25 0.25 0.25 0.25 0.25 0.25 0.25 0.25 0.25 0.25 0.25\n",
      " 0.25 0.25 0.25 0.25 0.25 0.25 0.25 0.25]\n"
     ]
    }
   ],
   "source": [
    "classical_exp = np.load(\"data/normalized/classical_exp_arr.npy\")\n",
    "print(classical_exp)\n",
    "classical_exp_arr = np.zeros([50])\n",
    "for i in range(50):\n",
    "    if i < 10:\n",
    "        classical_exp_arr[i] = classical_exp[0]\n",
    "    elif 10 <= i < 20:\n",
    "        classical_exp_arr[i] = classical_exp[1]\n",
    "    elif 20 <= i < 30:\n",
    "        classical_exp_arr[i] = classical_exp[2]\n",
    "    elif 30 <= i < 40:\n",
    "        classical_exp_arr[i] = classical_exp[3]\n",
    "    else:\n",
    "        classical_exp_arr[i] = classical_exp[4]\n",
    "print(classical_exp_arr)"
   ]
  },
  {
   "cell_type": "code",
   "execution_count": 25,
   "id": "3c831cbc-1430-426c-bce7-82a344d0caf1",
   "metadata": {},
   "outputs": [],
   "source": [
    "df = np.load(f\"data/normalized/VQE/prob_all_opt{0}_layer{1}_ratio{0.2}.npy\",allow_pickle='TRUE').item()\n",
    "\n",
    "classical_exp = np.load(\"data/normalized/classical_exp_arr.npy\")\n",
    "probability = np.zeros([4, 10])\n",
    "cost = np.zeros([4, 10])\n",
    "pdepth = np.arange(1, 11)\n",
    "expectation = np.zeros([4, 10])\n",
    "\n",
    "ratMax = [0.2, 0.65, 1.1, 1.55, 2.0]\n",
    "output_prob = np.zeros([50, 3])   \n",
    "output_expectation = np.zeros([50, 3])\n",
    "output_error_rate = np.zeros([50, 3])\n",
    "count = 0\n",
    "for opt in range(0, 1):\n",
    "    for it in range(1, 11):\n",
    "        for ra in ratMax:\n",
    "            df = np.load(f\"data/normalized/VQE/prob_all_opt{opt}_layer{it}_ratio{ra}.npy\",allow_pickle='TRUE').item()\n",
    "            df2 = np.load(f\"data/normalized/VQE/fval_all_opt{opt}_layer{it}_ratio{ra}.npy\",allow_pickle='TRUE').item()\n",
    "            output_prob[count, 0] = output_expectation[count, 0] = output_error_rate[count, 0] = it\n",
    "            output_prob[count, 1] = output_expectation[count, 1] = output_error_rate[count, 1] = ra\n",
    "            output_prob[count, 2] = df.get('10011010', 0) + df.get('01100101', 0)\n",
    "            \n",
    "            for key in df:\n",
    "                output_expectation[count, 2] += df[key] * df2[key]\n",
    "            count += 1\n",
    "\n",
    "for i in range(50):\n",
    "    output_error_rate[i, 2] = (output_expectation[i, 2] - classical_exp_arr[i]) / np.abs(classical_exp_arr[i])\n",
    "    \n",
    "# print(output_error_rate)\n",
    "if opt == 0:\n",
    "    np.savetxt(\"data/normalized/VQE_output/probability.csv\", output_prob, delimiter=\",\")\n",
    "    np.savetxt(\"data/normalized/VQE_output/expectation.csv\", output_expectation, delimiter=\",\")\n",
    "    np.savetxt(\"data/normalized/VQE_output/error_rate.csv\", output_error_rate, delimiter=\",\")\n",
    "    "
   ]
  },
  {
   "cell_type": "code",
   "execution_count": 26,
   "id": "d8c61f97-503c-442a-87d2-c09fab2fd046",
   "metadata": {},
   "outputs": [],
   "source": [
    "df = np.load(f\"data/normalized/VQE/prob_all_opt{0}_layer{1}_ratio{0.2}.npy\",allow_pickle='TRUE').item()\n",
    "\n",
    "classical_exp = np.load(\"data/normalized/classical_exp_arr.npy\")\n",
    "probability = np.zeros([4, 10])\n",
    "cost = np.zeros([4, 10])\n",
    "pdepth = np.arange(1, 11)\n",
    "expectation = np.zeros([4, 10])\n",
    "\n",
    "ratMax = [0.2, 0.65, 1.1, 1.55, 2.0]\n",
    "output_prob = np.zeros([50, 3])   \n",
    "output_expectation = np.zeros([50, 3])\n",
    "output_error_rate = np.zeros([50, 3])\n",
    "count = 0\n",
    "for opt in range(1, 2):\n",
    "    for it in range(1, 11):\n",
    "        for ra in ratMax:\n",
    "            df = np.load(f\"data/normalized/VQE/prob_all_opt{opt}_layer{it}_ratio{ra}.npy\",allow_pickle='TRUE').item()\n",
    "            df2 = np.load(f\"data/normalized/VQE/fval_all_opt{opt}_layer{it}_ratio{ra}.npy\",allow_pickle='TRUE').item()\n",
    "            output_prob[count, 0] = output_expectation[count, 0] = output_error_rate[count, 0] = it\n",
    "            output_prob[count, 1] = output_expectation[count, 1] = output_error_rate[count, 1] = ra\n",
    "            output_prob[count, 2] = df.get('10011010', 0) + df.get('01100101', 0)\n",
    "            \n",
    "            for key in df:\n",
    "                output_expectation[count, 2] += df[key] * df2[key]\n",
    "            count += 1\n",
    "\n",
    "for i in range(50):\n",
    "    output_error_rate[i, 2] = (output_expectation[i, 2] - classical_exp_arr[i]) / np.abs(classical_exp_arr[i])\n",
    "    \n",
    "# print(output_error_rate)\n",
    "if opt == 1:\n",
    "    np.savetxt(\"data/normalized/VQE_output/probability_2.csv\", output_prob, delimiter=\",\")\n",
    "    np.savetxt(\"data/normalized/VQE_output/expectation_2.csv\", output_expectation, delimiter=\",\")\n",
    "    np.savetxt(\"data/normalized/VQE_output/error_rate_2.csv\", output_error_rate, delimiter=\",\")\n",
    "    "
   ]
  },
  {
   "cell_type": "markdown",
   "id": "07cc96e7-72ff-42ad-8b85-f25a97d65ddd",
   "metadata": {},
   "source": [
    "##### reprocessed"
   ]
  },
  {
   "cell_type": "code",
   "execution_count": 35,
   "id": "bc35fedf-831f-4597-8f59-43fac5495f3e",
   "metadata": {},
   "outputs": [],
   "source": [
    "df = np.load(f\"data/normalized/VQE/prob_all_opt{0}_layer{1}_ratio{0.2}.npy\",allow_pickle='TRUE').item()\n",
    "\n",
    "classical_exp = np.load(\"data/normalized/classical_exp_arr.npy\")\n",
    "probability = np.zeros([4, 10])\n",
    "cost = np.zeros([4, 10])\n",
    "pdepth = np.arange(1, 11)\n",
    "expectation = np.zeros([4, 10])\n",
    "\n",
    "ratMax = [0.2, 0.65, 1.1, 1.55, 2.0]\n",
    "output_prob = np.zeros([50, 3])   \n",
    "output_expectation = np.zeros([50, 3])\n",
    "output_error_rate = np.zeros([50, 3])\n",
    "count = 0\n",
    "for opt in range(0, 1):\n",
    "    for it in range(1, 11):\n",
    "        for ra in ratMax:\n",
    "            df = np.load(f\"data/normalized/VQE/prob_all_opt{opt}_layer{it}_ratio{ra}.npy\",allow_pickle='TRUE').item()\n",
    "            df2 = np.load(f\"data/normalized/VQE/fval_all_opt{opt}_layer{it}_ratio{ra}.npy\",allow_pickle='TRUE').item()\n",
    "            output_prob[count, 0] = output_expectation[count, 0] = output_error_rate[count, 0] = it\n",
    "            output_prob[count, 1] = output_expectation[count, 1] = output_error_rate[count, 1] = ra\n",
    "            output_prob[count, 2] = df.get('10011010', 0) + df.get('01100101', 0)\n",
    "            \n",
    "            for key in df:\n",
    "                output_expectation[count, 2] += df[key] * df2[key]\n",
    "            count += 1\n",
    "\n",
    "for i in range(50):\n",
    "    output_error_rate[i, 2] = (output_expectation[i, 2] - classical_exp_arr[i]) / np.abs(classical_exp_arr[i])\n",
    "    \n",
    "# print(output_error_rate)\n",
    "if opt == 0:\n",
    "    np.save(\"data/normalized/VQE_output_reprocessed/probability.npy\", output_prob)\n",
    "    np.save(\"data/normalized/VQE_output_reprocessed/expectation.npy\", output_expectation,)\n",
    "    np.save(\"data/normalized/VQE_output_reprocessed/error_rate.npy\", output_error_rate)\n",
    "    "
   ]
  },
  {
   "cell_type": "code",
   "execution_count": 36,
   "id": "6cf7fd6d-52c4-4061-881a-d9795e490c71",
   "metadata": {},
   "outputs": [],
   "source": [
    "df = np.load(f\"data/normalized/VQE/prob_all_opt{0}_layer{1}_ratio{0.2}.npy\",allow_pickle='TRUE').item()\n",
    "\n",
    "classical_exp = np.load(\"data/normalized/classical_exp_arr.npy\")\n",
    "probability = np.zeros([4, 10])\n",
    "cost = np.zeros([4, 10])\n",
    "pdepth = np.arange(1, 11)\n",
    "expectation = np.zeros([4, 10])\n",
    "\n",
    "ratMax = [0.2, 0.65, 1.1, 1.55, 2.0]\n",
    "output_prob = np.zeros([50, 3])   \n",
    "output_expectation = np.zeros([50, 3])\n",
    "output_error_rate = np.zeros([50, 3])\n",
    "count = 0\n",
    "for opt in range(1, 2):\n",
    "    for it in range(1, 11):\n",
    "        for ra in ratMax:\n",
    "            df = np.load(f\"data/normalized/VQE/prob_all_opt{opt}_layer{it}_ratio{ra}.npy\",allow_pickle='TRUE').item()\n",
    "            df2 = np.load(f\"data/normalized/VQE/fval_all_opt{opt}_layer{it}_ratio{ra}.npy\",allow_pickle='TRUE').item()\n",
    "            output_prob[count, 0] = output_expectation[count, 0] = output_error_rate[count, 0] = it\n",
    "            output_prob[count, 1] = output_expectation[count, 1] = output_error_rate[count, 1] = ra\n",
    "            output_prob[count, 2] = df.get('10011010', 0) + df.get('01100101', 0)\n",
    "            \n",
    "            for key in df:\n",
    "                output_expectation[count, 2] += df[key] * df2[key]\n",
    "            count += 1\n",
    "\n",
    "for i in range(50):\n",
    "    output_error_rate[i, 2] = (output_expectation[i, 2] - classical_exp_arr[i]) / np.abs(classical_exp_arr[i])\n",
    "    \n",
    "# print(output_error_rate)\n",
    "if opt == 1:\n",
    "    np.save(\"data/normalized/VQE_output_reprocessed/probability_2.npy\", output_prob)\n",
    "    np.save(\"data/normalized/VQE_output_reprocessed/expectation_2.npy\", output_expectation)\n",
    "    np.save(\"data/normalized/VQE_output_reprocessed/error_rate_2.npy\", output_error_rate)\n",
    "    "
   ]
  },
  {
   "cell_type": "markdown",
   "id": "b6b7b4b1-fe02-4a8f-90c2-1b5906a37304",
   "metadata": {},
   "source": [
    "#### QAOA"
   ]
  },
  {
   "cell_type": "markdown",
   "id": "242d5e29-9c94-431b-811a-09e5b1c052d7",
   "metadata": {},
   "source": [
    "##### Processed"
   ]
  },
  {
   "cell_type": "code",
   "execution_count": 28,
   "id": "e39224d6-cfc8-4ed8-a28c-c3528a70b1fd",
   "metadata": {},
   "outputs": [],
   "source": [
    "df = np.load(f\"data/normalized/QAOA/prob_all_opt{0}_layer{1}_ratio{0.2}.npy\",allow_pickle='TRUE').item()\n",
    "\n",
    "classical_exp = np.load(\"data/normalized/classical_exp_arr.npy\")\n",
    "probability = np.zeros([4, 10])\n",
    "cost = np.zeros([4, 10])\n",
    "pdepth = np.arange(1, 11)\n",
    "expectation = np.zeros([4, 10])\n",
    "\n",
    "ratMax = [0.2, 0.65, 1.1, 1.55, 2.0]\n",
    "output_prob = np.zeros([50, 3])   \n",
    "output_expectation = np.zeros([50, 3])\n",
    "output_error_rate = np.zeros([50, 3])\n",
    "count = 0\n",
    "for opt in range(0, 1):\n",
    "    for it in range(1, 11):\n",
    "        for ra in ratMax:\n",
    "            df = np.load(f\"data/normalized/QAOA/prob_all_opt{opt}_layer{it}_ratio{ra}.npy\",allow_pickle='TRUE').item()\n",
    "            df2 = np.load(f\"data/normalized/QAOA/fval_all_opt{opt}_layer{it}_ratio{ra}.npy\",allow_pickle='TRUE').item()\n",
    "            output_prob[count, 0] = output_expectation[count, 0] = output_error_rate[count, 0] = it\n",
    "            output_prob[count, 1] = output_expectation[count, 1] = output_error_rate[count, 1] = ra\n",
    "            output_prob[count, 2] = df.get('10011010', 0) + df.get('01100101', 0)\n",
    "            \n",
    "            for key in df:\n",
    "                output_expectation[count, 2] += df[key] * df2[key]\n",
    "            count += 1\n",
    "\n",
    "for i in range(50):\n",
    "    output_error_rate[i, 2] = (output_expectation[i, 2] - classical_exp_arr[i]) / np.abs(classical_exp_arr[i])\n",
    "    \n",
    "# print(output_error_rate)\n",
    "if opt == 0:\n",
    "    np.savetxt(\"data/normalized/QAOA_output/probability.csv\", output_prob, delimiter=\",\")\n",
    "    np.savetxt(\"data/normalized/QAOA_output/expectation.csv\", output_expectation, delimiter=\",\")\n",
    "    np.savetxt(\"data/normalized/QAOA_output/error_rate.csv\", output_error_rate, delimiter=\",\")\n",
    "    "
   ]
  },
  {
   "cell_type": "code",
   "execution_count": 29,
   "id": "9d196315-a601-4baf-b80f-328d30337d0d",
   "metadata": {},
   "outputs": [],
   "source": [
    "df = np.load(f\"data/normalized/QAOA/prob_all_opt{0}_layer{1}_ratio{0.2}.npy\",allow_pickle='TRUE').item()\n",
    "\n",
    "classical_exp = np.load(\"data/normalized/classical_exp_arr.npy\")\n",
    "probability = np.zeros([4, 10])\n",
    "cost = np.zeros([4, 10])\n",
    "pdepth = np.arange(1, 11)\n",
    "expectation = np.zeros([4, 10])\n",
    "\n",
    "ratMax = [0.2, 0.65, 1.1, 1.55, 2.0]\n",
    "output_prob = np.zeros([50, 3])   \n",
    "output_expectation = np.zeros([50, 3])\n",
    "output_error_rate = np.zeros([50, 3])\n",
    "count = 0\n",
    "for opt in range(1, 2):\n",
    "    for it in range(1, 11):\n",
    "        for ra in ratMax:\n",
    "            df = np.load(f\"data/normalized/QAOA/prob_all_opt{opt}_layer{it}_ratio{ra}.npy\",allow_pickle='TRUE').item()\n",
    "            df2 = np.load(f\"data/normalized/QAOA/fval_all_opt{opt}_layer{it}_ratio{ra}.npy\",allow_pickle='TRUE').item()\n",
    "            output_prob[count, 0] = output_expectation[count, 0] = output_error_rate[count, 0] = it\n",
    "            output_prob[count, 1] = output_expectation[count, 1] = output_error_rate[count, 1] = ra\n",
    "            output_prob[count, 2] = df.get('10011010', 0) + df.get('01100101', 0)\n",
    "            \n",
    "            for key in df:\n",
    "                output_expectation[count, 2] += df[key] * df2[key]\n",
    "            count += 1\n",
    "\n",
    "for i in range(50):\n",
    "    output_error_rate[i, 2] = (output_expectation[i, 2] - classical_exp_arr[i]) / np.abs(classical_exp_arr[i])\n",
    "    \n",
    "# print(output_error_rate)\n",
    "if opt == 1:\n",
    "    np.savetxt(\"data/normalized/QAOA_output/probability_2.csv\", output_prob, delimiter=\",\")\n",
    "    np.savetxt(\"data/normalized/QAOA_output/expectation_2.csv\", output_expectation, delimiter=\",\")\n",
    "    np.savetxt(\"data/normalized/QAOA_output/error_rate_2.csv\", output_error_rate, delimiter=\",\")\n",
    "    "
   ]
  },
  {
   "cell_type": "markdown",
   "id": "6d11caed-1342-49c8-b987-036a95e28021",
   "metadata": {},
   "source": [
    "##### Reprocessed"
   ]
  },
  {
   "cell_type": "code",
   "execution_count": 64,
   "id": "f9174639-5d49-430a-be51-fb98873d97f4",
   "metadata": {},
   "outputs": [],
   "source": [
    "df = np.load(f\"data/normalized/QAOA/prob_all_opt{0}_layer{1}_ratio{0.2}.npy\",allow_pickle='TRUE').item()\n",
    "\n",
    "classical_exp = np.load(\"data/normalized/classical_exp_arr.npy\")\n",
    "probability = np.zeros([4, 10])\n",
    "cost = np.zeros([4, 10])\n",
    "pdepth = np.arange(1, 11)\n",
    "expectation = np.zeros([4, 10])\n",
    "\n",
    "ratMax = [0.2, 0.65, 1.1, 1.55, 2.0]\n",
    "output_prob = np.zeros([50, 3])   \n",
    "output_expectation = np.zeros([50, 3])\n",
    "output_error_rate = np.zeros([50, 3])\n",
    "count = 0\n",
    "for opt in range(0, 1):\n",
    "    for it in range(1, 11):\n",
    "        for ra in ratMax:\n",
    "            df = np.load(f\"data/normalized/QAOA/prob_all_opt{opt}_layer{it}_ratio{ra}.npy\",allow_pickle='TRUE').item()\n",
    "            df2 = np.load(f\"data/normalized/QAOA/fval_all_opt{opt}_layer{it}_ratio{ra}.npy\",allow_pickle='TRUE').item()\n",
    "            output_prob[count, 0] = output_expectation[count, 0] = output_error_rate[count, 0] = it\n",
    "            output_prob[count, 1] = output_expectation[count, 1] = output_error_rate[count, 1] = ra\n",
    "            output_prob[count, 2] = df.get('10011010', 0) + df.get('01100101', 0)\n",
    "            \n",
    "            for key in df:\n",
    "                output_expectation[count, 2] += df[key] * df2[key]\n",
    "            count += 1\n",
    "\n",
    "for i in range(50):\n",
    "    output_error_rate[i, 2] = (output_expectation[i, 2] - classical_exp_arr[i]) / np.abs(classical_exp_arr[i])\n",
    "    \n",
    "# print(output_error_rate)\n",
    "if opt == 0:\n",
    "    np.save(\"data/normalized/QAOA_output_reprocessed/probability.npy\", output_prob)\n",
    "    np.save(\"data/normalized/QAOA_output_reprocessed/expectation.npy\", output_expectation)\n",
    "    np.save(\"data/normalized/QAOA_output_reprocessed/error_rate.npy\", output_error_rate)\n",
    "    "
   ]
  },
  {
   "cell_type": "code",
   "execution_count": 65,
   "id": "4e87a057-8a64-4f17-a3bc-4c93d7004f40",
   "metadata": {},
   "outputs": [],
   "source": [
    "df = np.load(f\"data/normalized/QAOA/prob_all_opt{0}_layer{1}_ratio{0.2}.npy\",allow_pickle='TRUE').item()\n",
    "\n",
    "classical_exp = np.load(\"data/normalized/classical_exp_arr.npy\")\n",
    "probability = np.zeros([4, 10])\n",
    "cost = np.zeros([4, 10])\n",
    "pdepth = np.arange(1, 11)\n",
    "expectation = np.zeros([4, 10])\n",
    "\n",
    "ratMax = [0.2, 0.65, 1.1, 1.55, 2.0]\n",
    "output_prob = np.zeros([50, 3])   \n",
    "output_expectation = np.zeros([50, 3])\n",
    "output_error_rate = np.zeros([50, 3])\n",
    "count = 0\n",
    "for opt in range(1, 2):\n",
    "    for it in range(1, 11):\n",
    "        for ra in ratMax:\n",
    "            df = np.load(f\"data/normalized/QAOA/prob_all_opt{opt}_layer{it}_ratio{ra}.npy\",allow_pickle='TRUE').item()\n",
    "            df2 = np.load(f\"data/normalized/QAOA/fval_all_opt{opt}_layer{it}_ratio{ra}.npy\",allow_pickle='TRUE').item()\n",
    "            output_prob[count, 0] = output_expectation[count, 0] = output_error_rate[count, 0] = it\n",
    "            output_prob[count, 1] = output_expectation[count, 1] = output_error_rate[count, 1] = ra\n",
    "            output_prob[count, 2] = df.get('10011010', 0) + df.get('01100101', 0)\n",
    "            \n",
    "            for key in df:\n",
    "                output_expectation[count, 2] += df[key] * df2[key]\n",
    "            count += 1\n",
    "\n",
    "for i in range(50):\n",
    "    output_error_rate[i, 2] = (output_expectation[i, 2] - classical_exp_arr[i]) / np.abs(classical_exp_arr[i])\n",
    "    \n",
    "# print(output_error_rate)\n",
    "if opt == 1:\n",
    "    np.save(\"data/normalized/QAOA_output_reprocessed/probability_2.npy\", output_prob)\n",
    "    np.save(\"data/normalized/QAOA_output_reprocessed/expectation_2.npy\", output_expectation)\n",
    "    np.save(\"data/normalized/QAOA_output_reprocessed/error_rate_2.npy\", output_error_rate)\n",
    "    "
   ]
  },
  {
   "cell_type": "markdown",
   "id": "4b42cece-28a5-4d21-b0e2-b1f75afcb32a",
   "metadata": {
    "tags": []
   },
   "source": [
    "#### Difference Plot"
   ]
  },
  {
   "cell_type": "markdown",
   "id": "7130942f-09b3-4859-95d8-9d90d8f8bdf7",
   "metadata": {},
   "source": [
    "##### VQE"
   ]
  },
  {
   "cell_type": "code",
   "execution_count": 69,
   "id": "195ee25c-8d32-48ea-9366-c7a3e23a54f3",
   "metadata": {},
   "outputs": [
    {
     "data": {
      "image/png": "[encoded data removed]",
      "text/plain": [
       "<Figure size 1080x576 with 1 Axes>"
      ]
     },
     "metadata": {
      "needs_background": "light"
     },
     "output_type": "display_data"
    }
   ],
   "source": [
    "normalized_error_rate = np.load(\"data/normalized/VQE_output_reprocessed/error_rate.npy\")\n",
    "# df = pd.read_csv('data/normalized/VQE_output/probability.csv', sep=',',header=None)\n",
    "x = np.arange(1, 11)\n",
    "y = np.zeros([5, 10])\n",
    "ratio_arr = np.linspace(0.2,2,5)\n",
    "# print(normalized_error_rate)\n",
    "\n",
    "normalized_error_rate = normalized_error_rate[:, 2:]\n",
    "for i in range(5):\n",
    "    y[i] = normalized_error_rate[i::5].T\n",
    "\n",
    "\n",
    "    \n",
    "    \n",
    "classical_exp = 2\n",
    "probability = np.zeros([4, 10])\n",
    "cost = np.zeros([4, 10])\n",
    "pdepth = np.arange(1, 11)\n",
    "expectation = np.zeros([4, 10])\n",
    "for opt in range(4):\n",
    "    for it in range(1, 11):\n",
    "        df = np.load(f\"data/VQE/prob_all_opt{opt}_layer{it}.npy\",allow_pickle='TRUE').item()\n",
    "        df2 = np.load(f\"data/VQE/fval_all_opt{opt}_layer{it}.npy\",allow_pickle='TRUE').item()\n",
    "        probability[opt, it-1] = df.get('10011010', 0)\n",
    "        probability[opt, it-1] += df.get('01100101', 0)\n",
    "        cost[opt, it-1] = df2.get('10011010', 0)\n",
    "        for key in df:\n",
    "            expectation[opt, it-1] += df[key] * df2[key]\n",
    "        \n",
    "\n",
    "alpha = (expectation - classical_exp) / np.abs(classical_exp)\n",
    "\n",
    "plt.figure(figsize=(15,8))\n",
    "for i in range(5):\n",
    "    plt.plot(x, y[i])\n",
    "plt.plot(x, alpha[0])\n",
    "plt.legend([\"ratio = 0.2\", \"ratio = 0.65\", \"ratio = 1.1\", \"ratio = 1.55\", \"ratio = 2\", \"Unnormalized\"])\n",
    "plt.xlim(0.5, 10.5)\n",
    "# plt.ylim(0, 5)\n",
    "plt.xticks(np.arange(1, 11), [\"1\", \"2\", \"3\", \"4\", \"5\", \"6\", \"7\", \"8\", \"9\", \"10\"], fontsize=18)\n",
    "plt.title(r\"VQE with SLSQP, $\\frac{expectation - classical\\ expectation}{|classical\\ expectation|}$\", fontsize=18)\n",
    "plt.xlabel(\"p-depth\", fontsize=18)\n",
    "plt.ylabel(\"Error rate\", fontsize=18)\n",
    "plt.grid(\"--\")\n",
    "plt.savefig(f\"graph/VQE_compare.png\", bbox_inches='tight',pad_inches = 0,dpi=300) \n",
    "plt.show()\n",
    "plt.close()\n"
   ]
  },
  {
   "cell_type": "markdown",
   "id": "f50b791b-d808-4f67-bd89-75c7adf495b8",
   "metadata": {},
   "source": [
    "##### QAOA"
   ]
  },
  {
   "cell_type": "code",
   "execution_count": 68,
   "id": "812d745b-a9e7-4c6e-be1a-08802834104c",
   "metadata": {},
   "outputs": [
    {
     "data": {
      "image/png": "[encoded data removed]",
      "text/plain": [
       "<Figure size 1080x576 with 1 Axes>"
      ]
     },
     "metadata": {
      "needs_background": "light"
     },
     "output_type": "display_data"
    }
   ],
   "source": [
    "normalized_error_rate = np.load(\"data/normalized/QAOA_output_reprocessed/error_rate.npy\")\n",
    "# df = pd.read_csv('data/normalized/VQE_output/probability.csv', sep=',',header=None)\n",
    "x = np.arange(1, 11)\n",
    "y = np.zeros([5, 10])\n",
    "ratio_arr = np.linspace(0.2,2,5)\n",
    "# print(normalized_error_rate)\n",
    "\n",
    "normalized_error_rate = normalized_error_rate[:, 2:]\n",
    "for i in range(5):\n",
    "    y[i] = normalized_error_rate[i::5].T\n",
    "\n",
    "    \n",
    "classical_exp = 2\n",
    "probability = np.zeros([4, 10])\n",
    "cost = np.zeros([4, 10])\n",
    "pdepth = np.arange(1, 11)\n",
    "expectation = np.zeros([4, 10])\n",
    "for opt in range(4):\n",
    "    for it in range(1, 11):\n",
    "        df = np.load(f\"data/QAOA/prob_all_opt{opt}_layer{it}.npy\",allow_pickle='TRUE').item()\n",
    "        df2 = np.load(f\"data/QAOA/fval_all_opt{opt}_layer{it}.npy\",allow_pickle='TRUE').item()\n",
    "        probability[opt, it-1] = df.get('10011010', 0)\n",
    "        probability[opt, it-1] += df.get('01100101', 0)\n",
    "        cost[opt, it-1] = df2.get('10011010', 0)\n",
    "        for key in df:\n",
    "            expectation[opt, it-1] += df[key] * df2[key]\n",
    "        \n",
    "\n",
    "alpha = (expectation - classical_exp) / np.abs(classical_exp)\n",
    "\n",
    "plt.figure(figsize=(15,8))\n",
    "for i in range(5):\n",
    "    plt.plot(x, y[i])\n",
    "plt.plot(x, alpha[0])\n",
    "plt.legend([\"ratio = 0.2\", \"ratio = 0.65\", \"ratio = 1.1\", \"ratio = 1.55\", \"ratio = 2\", \"Unnormalized\"])\n",
    "plt.xlim(0.5, 10.5)\n",
    "# plt.ylim(0, 5)\n",
    "plt.xticks(np.arange(1, 11), [\"1\", \"2\", \"3\", \"4\", \"5\", \"6\", \"7\", \"8\", \"9\", \"10\"], fontsize=18)\n",
    "plt.title(r\"QAOA with SLSQP, $\\frac{expectation - classical\\ expectation}{|classical\\ expectation|}$\", fontsize=18)\n",
    "plt.xlabel(\"p-depth\", fontsize=18)\n",
    "plt.ylabel(\"Error rate\", fontsize=18)\n",
    "plt.grid(\"--\")\n",
    "plt.savefig(f\"graph/QAOA_compare.png\", bbox_inches='tight',pad_inches = 0,dpi=300) \n",
    "plt.show()\n",
    "plt.close()\n"
   ]
  }
 ],
 "metadata": {
  "kernelspec": {
   "display_name": "Python 3 (ipykernel)",
   "language": "python",
   "name": "python3"
  },
  "language_info": {
   "codemirror_mode": {
    "name": "ipython",
    "version": 3
   },
   "file_extension": ".py",
   "mimetype": "text/x-python",
   "name": "python",
   "nbconvert_exporter": "python",
   "pygments_lexer": "ipython3",
   "version": "3.8.13"
  },
  "widgets": {
   "application/vnd.jupyter.widget-state+json": {
    "state": {
     "00a9ae4ebe2e4e5b9393a4b8b72c4764": {
      "model_module": "@jupyter-widgets/controls",
      "model_module_version": "1.5.0",
      "model_name": "DescriptionStyleModel",
      "state": {
       "description_width": ""
      }
     },
     "0b966f9b663c44e086e194c10b500246": {
      "model_module": "@jupyter-widgets/base",
      "model_module_version": "1.2.0",
      "model_name": "LayoutModel",
      "state": {
       "width": "95px"
      }
     },
     "187524833cd845cfb2bbf09af3106ea4": {
      "model_module": "@jupyter-widgets/base",
      "model_module_version": "1.2.0",
      "model_name": "LayoutModel",
      "state": {
       "grid_area": "right",
       "padding": "0px 0px 0px 0px",
       "width": "70px"
      }
     },
     "27f60851769d4cdcaa91aa42d63c77a8": {
      "model_module": "@jupyter-widgets/controls",
      "model_module_version": "1.5.0",
      "model_name": "DescriptionStyleModel",
      "state": {
       "description_width": ""
      }
     },
     "3033ebaf04234da9b6437fbb42cf5827": {
      "model_module": "@jupyter-widgets/base",
      "model_module_version": "1.2.0",
      "model_name": "LayoutModel",
      "state": {
       "margin": "0px 0px 0px 37px",
       "width": "600px"
      }
     },
     "46debebaeb5345748448c42ad55f243c": {
      "model_module": "@jupyter-widgets/base",
      "model_module_version": "1.2.0",
      "model_name": "LayoutModel",
      "state": {
       "width": "145px"
      }
     },
     "497ee93892644df7b21d2b45c8d684c3": {
      "model_module": "@jupyter-widgets/base",
      "model_module_version": "1.2.0",
      "model_name": "LayoutModel",
      "state": {
       "grid_template_areas": "\n                                       \". . . . right \"\n                                        ",
       "grid_template_columns": "20% 20% 20% 20% 20%",
       "width": "100%"
      }
     },
     "57fa53d53c4e4c08a8d5aeb13745ed6a": {
      "model_module": "@jupyter-widgets/controls",
      "model_module_version": "1.5.0",
      "model_name": "HTMLModel",
      "state": {
       "layout": "IPY_MODEL_46debebaeb5345748448c42ad55f243c",
       "style": "IPY_MODEL_afaf8727dda44483b966b249d97ca644",
       "value": "<h5>Backend</h5>"
      }
     },
     "599f07680e75422db0e442349e5672b4": {
      "model_module": "@jupyter-widgets/controls",
      "model_module_version": "1.5.0",
      "model_name": "HTMLModel",
      "state": {
       "layout": "IPY_MODEL_0b966f9b663c44e086e194c10b500246",
       "style": "IPY_MODEL_6d064d3b64a847f9b07e672b8fbef566",
       "value": "<h5>Status</h5>"
      }
     },
     "68509a084cda421088272ae228191b68": {
      "model_module": "@jupyter-widgets/controls",
      "model_module_version": "1.5.0",
      "model_name": "ButtonModel",
      "state": {
       "button_style": "primary",
       "description": "Clear",
       "layout": "IPY_MODEL_187524833cd845cfb2bbf09af3106ea4",
       "style": "IPY_MODEL_fafc6a06ff7044f4bd9ef047d453b472"
      }
     },
     "6d064d3b64a847f9b07e672b8fbef566": {
      "model_module": "@jupyter-widgets/controls",
      "model_module_version": "1.5.0",
      "model_name": "DescriptionStyleModel",
      "state": {
       "description_width": ""
      }
     },
     "7dcb46453e9a4f5e83bcbcb1a5125fc2": {
      "model_module": "@jupyter-widgets/base",
      "model_module_version": "1.2.0",
      "model_name": "LayoutModel",
      "state": {
       "margin": "0px 0px 10px 0px"
      }
     },
     "86483191337b4e4e8ac44d1dd4190331": {
      "model_module": "@jupyter-widgets/controls",
      "model_module_version": "1.5.0",
      "model_name": "DescriptionStyleModel",
      "state": {
       "description_width": ""
      }
     },
     "8a8356152b5b4694b6fe009b11ad4a7a": {
      "model_module": "@jupyter-widgets/controls",
      "model_module_version": "1.5.0",
      "model_name": "HTMLModel",
      "state": {
       "layout": "IPY_MODEL_c7183263528c45fdbfc45c07889a295e",
       "style": "IPY_MODEL_00a9ae4ebe2e4e5b9393a4b8b72c4764",
       "value": "<h5>Job ID</h5>"
      }
     },
     "8b8bb7d299a84a6d9b6761a85d4b09f3": {
      "model_module": "@jupyter-widgets/controls",
      "model_module_version": "1.5.0",
      "model_name": "HBoxModel",
      "state": {
       "children": [
        "IPY_MODEL_8a8356152b5b4694b6fe009b11ad4a7a",
        "IPY_MODEL_57fa53d53c4e4c08a8d5aeb13745ed6a",
        "IPY_MODEL_599f07680e75422db0e442349e5672b4",
        "IPY_MODEL_c8c671173473412d823837b375436b40",
        "IPY_MODEL_f0dc4bdd0c1c429180d06228db3e3d5d"
       ],
       "layout": "IPY_MODEL_3033ebaf04234da9b6437fbb42cf5827"
      }
     },
     "afaf8727dda44483b966b249d97ca644": {
      "model_module": "@jupyter-widgets/controls",
      "model_module_version": "1.5.0",
      "model_name": "DescriptionStyleModel",
      "state": {
       "description_width": ""
      }
     },
     "b17e0981b42149d690d47377853398bd": {
      "model_module": "@jupyter-widgets/controls",
      "model_module_version": "1.5.0",
      "model_name": "DescriptionStyleModel",
      "state": {
       "description_width": ""
      }
     },
     "c1f138577a394515944afba56e5bf740": {
      "model_module": "@jupyter-widgets/base",
      "model_module_version": "1.2.0",
      "model_name": "LayoutModel",
      "state": {
       "width": "70px"
      }
     },
     "c7183263528c45fdbfc45c07889a295e": {
      "model_module": "@jupyter-widgets/base",
      "model_module_version": "1.2.0",
      "model_name": "LayoutModel",
      "state": {
       "width": "190px"
      }
     },
     "c778b2e6181c4ca292ce7bf7dae505e2": {
      "model_module": "@jupyter-widgets/base",
      "model_module_version": "1.2.0",
      "model_name": "LayoutModel",
      "state": {}
     },
     "c8c671173473412d823837b375436b40": {
      "model_module": "@jupyter-widgets/controls",
      "model_module_version": "1.5.0",
      "model_name": "HTMLModel",
      "state": {
       "layout": "IPY_MODEL_c1f138577a394515944afba56e5bf740",
       "style": "IPY_MODEL_27f60851769d4cdcaa91aa42d63c77a8",
       "value": "<h5>Queue</h5>"
      }
     },
     "d337478b22304b779397701311ca21e0": {
      "model_module": "@jupyter-widgets/controls",
      "model_module_version": "1.5.0",
      "model_name": "GridBoxModel",
      "state": {
       "children": [
        "IPY_MODEL_68509a084cda421088272ae228191b68"
       ],
       "layout": "IPY_MODEL_497ee93892644df7b21d2b45c8d684c3"
      }
     },
     "e5fe4e6402fc4e558cb43d6f2f5f4c0d": {
      "model_module": "@jupyter-widgets/controls",
      "model_module_version": "1.5.0",
      "model_name": "HTMLModel",
      "state": {
       "layout": "IPY_MODEL_7dcb46453e9a4f5e83bcbcb1a5125fc2",
       "style": "IPY_MODEL_b17e0981b42149d690d47377853398bd",
       "value": "<p style='font-family: IBM Plex Sans, Arial, Helvetica, sans-serif; font-size: 20px; font-weight: medium;'>Circuit Properties</p>"
      }
     },
     "f0dc4bdd0c1c429180d06228db3e3d5d": {
      "model_module": "@jupyter-widgets/controls",
      "model_module_version": "1.5.0",
      "model_name": "HTMLModel",
      "state": {
       "layout": "IPY_MODEL_c778b2e6181c4ca292ce7bf7dae505e2",
       "style": "IPY_MODEL_86483191337b4e4e8ac44d1dd4190331",
       "value": "<h5>Message</h5>"
      }
     },
     "fafc6a06ff7044f4bd9ef047d453b472": {
      "model_module": "@jupyter-widgets/controls",
      "model_module_version": "1.5.0",
      "model_name": "ButtonStyleModel",
      "state": {}
     }
    },
    "version_major": 2,
    "version_minor": 0
   }
  }
 },
 "nbformat": 4,
 "nbformat_minor": 5
}
